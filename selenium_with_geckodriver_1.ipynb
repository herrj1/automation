{
 "cells": [
  {
   "cell_type": "code",
   "execution_count": 19,
   "metadata": {},
   "outputs": [
    {
     "name": "stdout",
     "output_type": "stream",
     "text": [
      "Report: ESPN removes Hank Williams Jr. from 'Monday Night Football' intro\n",
      "2022 Genesis G70 Gets the Same Good Looks as G80\n",
      "No stimulus checks for Americans in slimmed-down GOP coronavirus relief package\n"
     ]
    }
   ],
   "source": [
    "from selenium import webdriver\n",
    " \n",
    "geckodriver = 'C:\\\\Users\\\\xxx\\\\Downloads\\\\geckodriver.exe'\n",
    " \n",
    "browser = webdriver.Firefox(executable_path=geckodriver)\n",
    " \n",
    "browser.get('http://www.yahoo.com')\n",
    " \n",
    "trending_xpath = '//div[@class=\"Pend(45px)\"]/h3/a/span'\n",
    " \n",
    "trending = browser.find_elements_by_xpath(trending_xpath)  \n",
    "    \n",
    "#print(trending[0].text)\n",
    "    \n",
    "# trending # and subject are separate elements, concatenate like so\n",
    "for i in range(0, 3):\n",
    "    print(trending[i].text)\n",
    " \n",
    "browser.quit()"
   ]
  },
  {
   "cell_type": "code",
   "execution_count": null,
   "metadata": {},
   "outputs": [],
   "source": []
  }
 ],
 "metadata": {
  "kernelspec": {
   "display_name": "Python 3",
   "language": "python",
   "name": "python3"
  },
  "language_info": {
   "codemirror_mode": {
    "name": "ipython",
    "version": 3
   },
   "file_extension": ".py",
   "mimetype": "text/x-python",
   "name": "python",
   "nbconvert_exporter": "python",
   "pygments_lexer": "ipython3",
   "version": "3.7.7"
  }
 },
 "nbformat": 4,
 "nbformat_minor": 4
}
